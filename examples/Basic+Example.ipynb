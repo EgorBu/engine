{
 "cells": [
  {
   "cell_type": "code",
   "execution_count": 1,
   "metadata": {
    "collapsed": true
   },
   "outputs": [],
   "source": [
    "from sourced.spark import API as SparkAPI\n",
    "from pyspark.sql import SparkSession\n",
    "\n",
    "spark = SparkSession.builder\\\n",
    ".master(\"local\").appName(\"Examples\")\\\n",
    ".getOrCreate()\n",
    "\n",
    "api = SparkAPI(spark, \"/repositories\")"
   ]
  },
  {
   "cell_type": "code",
   "execution_count": 2,
   "metadata": {
    "collapsed": true
   },
   "outputs": [],
   "source": [
    "repositories_df = api.repositories\n",
    "references_df = repositories_df.references\n",
    "commits_df = references_df.commits\n",
    "blobs_df = commits_df.blobs"
   ]
  },
  {
   "cell_type": "markdown",
   "metadata": {},
   "source": [
    "### Get all HEAD references for all the repositories"
   ]
  },
  {
   "cell_type": "code",
   "execution_count": 3,
   "metadata": {
    "collapsed": true
   },
   "outputs": [],
   "source": [
    "heads_df = references_df.head_ref"
   ]
  },
  {
   "cell_type": "markdown",
   "metadata": {},
   "source": [
    "### Get repositories that are marked as no forks"
   ]
  },
  {
   "cell_type": "code",
   "execution_count": 4,
   "metadata": {
    "collapsed": true
   },
   "outputs": [],
   "source": [
    "no_forks_df = repositories_df.filter(repositories_df.is_fork == 0)"
   ]
  },
  {
   "cell_type": "markdown",
   "metadata": {},
   "source": [
    "### Get only references for original repositories"
   ]
  },
  {
   "cell_type": "code",
   "execution_count": 5,
   "metadata": {
    "collapsed": true
   },
   "outputs": [],
   "source": [
    "no_forks_heads_df = heads_df.join(no_forks_df, heads_df.repository_id == no_forks_df.id).drop('repository_id').distinct()"
   ]
  },
  {
   "cell_type": "code",
   "execution_count": 6,
   "metadata": {
    "collapsed": true
   },
   "outputs": [],
   "source": [
    "head_commits_df = no_forks_heads_df.join(commits_df, no_forks_heads_df.hash == commits_df.hash)"
   ]
  },
  {
   "cell_type": "code",
   "execution_count": null,
   "metadata": {},
   "outputs": [
    {
     "name": "stdout",
     "output_type": "stream",
     "text": [
      "+---------------+--------------------+--------------------+--------------------+-------+\n",
      "|           name|                hash|                  id|                urls|is_fork|\n",
      "+---------------+--------------------+--------------------+--------------------+-------+\n",
      "|refs/heads/HEAD|fff7062de8474d10a...|github.com/xiyou-...|[git://github.com...|  false|\n",
      "|refs/heads/HEAD|dbfab055c70379219...|github.com/waynee...|[git://github.com...|  false|\n",
      "|refs/heads/HEAD|202ceb4d3efd22945...|anongit.kde.org/s...|[https://anongit....|  false|\n",
      "|refs/heads/HEAD|2060ee6252a64337c...|anongit.kde.org/p...|[https://anongit....|  false|\n",
      "+---------------+--------------------+--------------------+--------------------+-------+\n",
      "\n"
     ]
    }
   ],
   "source": [
    "no_forks_heads_df.show()"
   ]
  },
  {
   "cell_type": "code",
   "execution_count": null,
   "metadata": {
    "collapsed": true
   },
   "outputs": [],
   "source": [
    "head_commits_df.drop(\"blobs\").drop(\"files\").show()"
   ]
  },
  {
   "cell_type": "code",
   "execution_count": null,
   "metadata": {
    "collapsed": true
   },
   "outputs": [],
   "source": [
    "blobs_df.limit(20).show()"
   ]
  },
  {
   "cell_type": "code",
   "execution_count": null,
   "metadata": {
    "collapsed": true
   },
   "outputs": [],
   "source": []
  }
 ],
 "metadata": {
  "kernelspec": {
   "display_name": "Python 3",
   "language": "python",
   "name": "python3"
  },
  "language_info": {
   "codemirror_mode": {
    "name": "ipython",
    "version": 3
   },
   "file_extension": ".py",
   "mimetype": "text/x-python",
   "name": "python",
   "nbconvert_exporter": "python",
   "pygments_lexer": "ipython3",
   "version": "3.6.2"
  }
 },
 "nbformat": 4,
 "nbformat_minor": 2
}
