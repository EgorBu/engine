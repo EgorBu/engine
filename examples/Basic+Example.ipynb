{
 "cells": [
  {
   "cell_type": "code",
   "execution_count": 1,
   "metadata": {
    "collapsed": true
   },
   "outputs": [],
   "source": [
    "from pyspark.sql import SparkSession\n",
    "\n",
    "spark = SparkSession.builder\\\n",
    ".master(\"local\").appName(\"Examples\")\\\n",
    ".config(\"tech.sourced.api.repositories.path\",\"/repositories\")\\\n",
    ".getOrCreate()"
   ]
  },
  {
   "cell_type": "code",
   "execution_count": 2,
   "metadata": {
    "collapsed": true
   },
   "outputs": [],
   "source": [
    "repositoriesDf = spark.read.format(\"tech.sourced.api\").option(\"table\",\"repositories\").load(\"/repositories\")\n",
    "referencesDf = spark.read.format(\"tech.sourced.api\").option(\"table\",\"references\").load(\"/repositories\")\n",
    "commitsDf = spark.read.format(\"tech.sourced.api\").option(\"table\",\"commits\").load(\"/repositories\")\n",
    "#TODO filesDf = spark.read.format(\"tech.sourced.api\").option(\"table\",\"files\").load(\"/path/to/repositories\")"
   ]
  },
  {
   "cell_type": "markdown",
   "metadata": {},
   "source": [
    "### Get all HEAD references for all the repositories"
   ]
  },
  {
   "cell_type": "code",
   "execution_count": 3,
   "metadata": {
    "collapsed": true
   },
   "outputs": [],
   "source": [
    "headsDf = referencesDf.filter(referencesDf.name == 'refs/heads/HEAD')"
   ]
  },
  {
   "cell_type": "markdown",
   "metadata": {},
   "source": [
    "### Get repositories that are marked as no forks"
   ]
  },
  {
   "cell_type": "code",
   "execution_count": 4,
   "metadata": {
    "collapsed": true
   },
   "outputs": [],
   "source": [
    "noForksDf = repositoriesDf.filter(repositoriesDf.is_fork == 0)"
   ]
  },
  {
   "cell_type": "markdown",
   "metadata": {},
   "source": [
    "### Get only references for original repositories"
   ]
  },
  {
   "cell_type": "code",
   "execution_count": 5,
   "metadata": {
    "collapsed": true
   },
   "outputs": [],
   "source": [
    "noForksHeadsDf = headsDf.join(noForksDf, headsDf.repository_id == noForksDf.id).drop('repository_id').distinct()"
   ]
  },
  {
   "cell_type": "code",
   "execution_count": 6,
   "metadata": {
    "collapsed": true
   },
   "outputs": [],
   "source": [
    "headCommitsDf = noForksHeadsDf.join(commitsDf, noForksHeadsDf.hash == commitsDf.hash)"
   ]
  },
  {
   "cell_type": "code",
   "execution_count": null,
   "metadata": {},
   "outputs": [
    {
     "name": "stdout",
     "output_type": "stream",
     "text": [
      "+---------------+--------------------+--------------------+--------------------+-------+\n",
      "|           name|                hash|                  id|                urls|is_fork|\n",
      "+---------------+--------------------+--------------------+--------------------+-------+\n",
      "|refs/heads/HEAD|65f60c9cbd4d562f0...|github.com/joseph...|[https://github.c...|  false|\n",
      "|refs/heads/HEAD|20779731d3185af5c...|github.com/nvbn/t...|[https://github.c...|  false|\n",
      "|refs/heads/HEAD|6574f05356c681dd5...|github.com/isocpp...|[https://github.c...|  false|\n",
      "|refs/heads/HEAD|c0b5382124e155249...|github.com/minima...|[https://github.c...|  false|\n",
      "|refs/heads/HEAD|cff5fb452953800ed...|github.com/soimor...|[https://github.c...|  false|\n",
      "|refs/heads/HEAD|34c43f4775971ab9b...|github.com/tornad...|[https://github.c...|  false|\n",
      "|refs/heads/HEAD|7f9c998a03a91fa93...|github.com/donnem...|[https://github.c...|  false|\n",
      "|refs/heads/HEAD|218b44996d5b51f95...|github.com/XX-net...|[https://github.c...|  false|\n",
      "|refs/heads/HEAD|dfe6245cd603b2621...|github.com/jakubr...|[https://github.c...|  false|\n",
      "|refs/heads/HEAD|4d8c4b46d5668387c...|github.com/rg3/yo...|[https://github.c...|  false|\n",
      "|refs/heads/HEAD|938bba32a4008bdde...|github.com/shadow...|[https://github.c...|  false|\n",
      "|refs/heads/HEAD|f0caf5b04fc33d7b0...|github.com/certbo...|[https://github.c...|  false|\n",
      "|refs/heads/HEAD|cda429aa5d9d91e20...|github.com/reques...|[https://github.c...|  false|\n",
      "|refs/heads/HEAD|ff6826da6a4f752fe...|github.com/vinta/...|[https://github.c...|  false|\n",
      "|refs/heads/HEAD|b358b5ba8a5edd639...|github.com/Vallor...|[https://github.c...|  false|\n",
      "|refs/heads/HEAD|f071562ec007b629d...|github.com/pallet...|[https://github.c...|  false|\n",
      "|refs/heads/HEAD|b8fabeed8652d2272...|github.com/scrapy...|[https://github.c...|  false|\n",
      "+---------------+--------------------+--------------------+--------------------+-------+\n",
      "\n"
     ]
    }
   ],
   "source": [
    "noForksHeadsDf.show()"
   ]
  },
  {
   "cell_type": "code",
   "execution_count": null,
   "metadata": {
    "collapsed": true
   },
   "outputs": [],
   "source": [
    "headCommitsDf.drop(\"blobs\").drop(\"files\").show()"
   ]
  },
  {
   "cell_type": "code",
   "execution_count": null,
   "metadata": {
    "collapsed": true
   },
   "outputs": [],
   "source": []
  }
 ],
 "metadata": {
  "kernelspec": {
   "display_name": "Python 3",
   "language": "python",
   "name": "python3"
  },
  "language_info": {
   "codemirror_mode": {
    "name": "ipython",
    "version": 3
   },
   "file_extension": ".py",
   "mimetype": "text/x-python",
   "name": "python",
   "nbconvert_exporter": "python",
   "pygments_lexer": "ipython3",
   "version": "3.6.2"
  }
 },
 "nbformat": 4,
 "nbformat_minor": 2
}
