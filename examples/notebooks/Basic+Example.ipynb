{
 "cells": [
  {
   "cell_type": "code",
   "execution_count": 1,
   "metadata": {},
   "outputs": [],
   "source": [
    "from sourced.spark import API as SparkAPI\n",
    "from pyspark.sql import SparkSession\n",
    "\n",
    "spark = SparkSession.builder\\\n",
    ".master(\"local\").appName(\"Examples\")\\\n",
    ".getOrCreate()\n",
    "\n",
    "api = SparkAPI(spark, \"/repositories\")"
   ]
  },
  {
   "cell_type": "code",
   "execution_count": 2,
   "metadata": {},
   "outputs": [],
   "source": [
    "repositories_df = api.repositories\n",
    "references_df = repositories_df.references\n",
    "commits_df = references_df.commits\n",
    "files_df = commits_df.files"
   ]
  },
  {
   "cell_type": "markdown",
   "metadata": {},
   "source": [
    "### Get all HEAD references for all the repositories"
   ]
  },
  {
   "cell_type": "code",
   "execution_count": 3,
   "metadata": {},
   "outputs": [],
   "source": [
    "heads_df = references_df.head_ref"
   ]
  },
  {
   "cell_type": "markdown",
   "metadata": {},
   "source": [
    "### Get repositories that are marked as no forks"
   ]
  },
  {
   "cell_type": "code",
   "execution_count": 4,
   "metadata": {},
   "outputs": [],
   "source": [
    "no_forks_df = repositories_df.filter(repositories_df.is_fork == 0)"
   ]
  },
  {
   "cell_type": "markdown",
   "metadata": {},
   "source": [
    "### Get only references for original repositories"
   ]
  },
  {
   "cell_type": "code",
   "execution_count": 5,
   "metadata": {},
   "outputs": [],
   "source": [
    "no_forks_heads_df = heads_df.join(no_forks_df, heads_df.repository_id == no_forks_df.id).drop('repository_id').distinct()"
   ]
  },
  {
   "cell_type": "code",
   "execution_count": 6,
   "metadata": {},
   "outputs": [],
   "source": [
    "head_commits_df = no_forks_heads_df.join(commits_df, no_forks_heads_df.hash == commits_df.hash)"
   ]
  },
  {
   "cell_type": "code",
   "execution_count": 7,
   "metadata": {},
   "outputs": [
    {
     "name": "stdout",
     "output_type": "stream",
     "text": [
      "+---------------+--------------------+--------------------+--------------------+-------+\n",
      "|           name|                hash|                  id|                urls|is_fork|\n",
      "+---------------+--------------------+--------------------+--------------------+-------+\n",
      "|refs/heads/HEAD|3bbb74a39a2d7e55b...|github.com/geekco...|[https://github.c...|  false|\n",
      "|refs/heads/HEAD|ab0da50d140873e61...|github.com/AlexPa...|[https://github.c...|  false|\n",
      "|refs/heads/HEAD|3ba1266862a13c471...|github.com/antoni...|[https://github.c...|  false|\n",
      "|refs/heads/HEAD|55c65f93887341953...|github.com/dotfen...|[https://github.c...|  false|\n",
      "|refs/heads/HEAD|ab0da50d140873e61...|github.com/jmailh...|[https://github.c...|  false|\n",
      "|refs/heads/HEAD|290440b64a73f5c7e...|github.com/mingra...|[https://github.c...|  false|\n",
      "|refs/heads/HEAD|95bec4223682ba38a...|github.com/bluepi...|[https://github.c...|  false|\n",
      "+---------------+--------------------+--------------------+--------------------+-------+\n",
      "\n"
     ]
    }
   ],
   "source": [
    "no_forks_heads_df.show()"
   ]
  },
  {
   "cell_type": "code",
   "execution_count": 8,
   "metadata": {},
   "outputs": [
    {
     "name": "stdout",
     "output_type": "stream",
     "text": [
      "+---------------+--------------------+--------------------+--------------------+-------+--------------------+------------------+-----+--------------------+----------------+--------------------+--------------------+-------------+--------------------+-------------+-------------------+--------------------+--------------+-------------------+\n",
      "|           name|                hash|                  id|                urls|is_fork|       repository_id|    reference_name|index|                hash|         message|             parents|                tree|parents_count|        author_email|  author_name|        author_date|     committer_email|committer_name|     committer_date|\n",
      "+---------------+--------------------+--------------------+--------------------+-------+--------------------+------------------+-----+--------------------+----------------+--------------------+--------------------+-------------+--------------------+-------------+-------------------+--------------------+--------------+-------------------+\n",
      "|refs/heads/HEAD|55c65f93887341953...|github.com/dotfen...|[https://github.c...|  false|github.com/antoni...|refs/pull/29/merge|   17|55c65f93887341953...|Update README.md|[2bc184e7537c6a0d...|Map(app/src/main/...|            1|antonioleivag@gma...|Antonio Leiva|2015-02-10 10:42:49|antonioleivag@gma...| Antonio Leiva|2015-02-10 10:42:49|\n",
      "|refs/heads/HEAD|55c65f93887341953...|github.com/dotfen...|[https://github.c...|  false|github.com/antoni...|  refs/pull/6/head|    1|55c65f93887341953...|Update README.md|[2bc184e7537c6a0d...|Map(app/src/main/...|            1|antonioleivag@gma...|Antonio Leiva|2015-02-10 10:42:49|antonioleivag@gma...| Antonio Leiva|2015-02-10 10:42:49|\n",
      "|refs/heads/HEAD|55c65f93887341953...|github.com/dotfen...|[https://github.c...|  false|github.com/dotfen...| refs/heads/master|    0|55c65f93887341953...|Update README.md|[2bc184e7537c6a0d...|Map(app/src/main/...|            1|antonioleivag@gma...|Antonio Leiva|2015-02-10 10:42:49|antonioleivag@gma...| Antonio Leiva|2015-02-10 10:42:49|\n",
      "|refs/heads/HEAD|55c65f93887341953...|github.com/dotfen...|[https://github.c...|  false|github.com/antoni...|   refs/heads/HEAD|   15|55c65f93887341953...|Update README.md|[2bc184e7537c6a0d...|Map(app/src/main/...|            1|antonioleivag@gma...|Antonio Leiva|2015-02-10 10:42:49|antonioleivag@gma...| Antonio Leiva|2015-02-10 10:42:49|\n",
      "|refs/heads/HEAD|55c65f93887341953...|github.com/dotfen...|[https://github.c...|  false|github.com/antoni...| refs/pull/29/head|   16|55c65f93887341953...|Update README.md|[2bc184e7537c6a0d...|Map(app/src/main/...|            1|antonioleivag@gma...|Antonio Leiva|2015-02-10 10:42:49|antonioleivag@gma...| Antonio Leiva|2015-02-10 10:42:49|\n",
      "|refs/heads/HEAD|55c65f93887341953...|github.com/dotfen...|[https://github.c...|  false|github.com/antoni...| refs/pull/24/head|   15|55c65f93887341953...|Update README.md|[2bc184e7537c6a0d...|Map(app/src/main/...|            1|antonioleivag@gma...|Antonio Leiva|2015-02-10 10:42:49|antonioleivag@gma...| Antonio Leiva|2015-02-10 10:42:49|\n",
      "|refs/heads/HEAD|55c65f93887341953...|github.com/dotfen...|[https://github.c...|  false|github.com/antoni...| refs/pull/23/head|   20|55c65f93887341953...|Update README.md|[2bc184e7537c6a0d...|Map(app/src/main/...|            1|antonioleivag@gma...|Antonio Leiva|2015-02-10 10:42:49|antonioleivag@gma...| Antonio Leiva|2015-02-10 10:42:49|\n",
      "|refs/heads/HEAD|55c65f93887341953...|github.com/dotfen...|[https://github.c...|  false|github.com/antoni...| refs/pull/21/head|   14|55c65f93887341953...|Update README.md|[2bc184e7537c6a0d...|Map(app/src/main/...|            1|antonioleivag@gma...|Antonio Leiva|2015-02-10 10:42:49|antonioleivag@gma...| Antonio Leiva|2015-02-10 10:42:49|\n",
      "|refs/heads/HEAD|55c65f93887341953...|github.com/dotfen...|[https://github.c...|  false|github.com/antoni...| refs/pull/10/head|    4|55c65f93887341953...|Update README.md|[2bc184e7537c6a0d...|Map(app/src/main/...|            1|antonioleivag@gma...|Antonio Leiva|2015-02-10 10:42:49|antonioleivag@gma...| Antonio Leiva|2015-02-10 10:42:49|\n",
      "|refs/heads/HEAD|55c65f93887341953...|github.com/dotfen...|[https://github.c...|  false|github.com/antoni...| refs/pull/1/merge|   16|55c65f93887341953...|Update README.md|[2bc184e7537c6a0d...|Map(app/src/main/...|            1|antonioleivag@gma...|Antonio Leiva|2015-02-10 10:42:49|antonioleivag@gma...| Antonio Leiva|2015-02-10 10:42:49|\n",
      "|refs/heads/HEAD|55c65f93887341953...|github.com/dotfen...|[https://github.c...|  false|github.com/antoni...| refs/pull/16/head|   10|55c65f93887341953...|Update README.md|[2bc184e7537c6a0d...|Map(app/src/main/...|            1|antonioleivag@gma...|Antonio Leiva|2015-02-10 10:42:49|antonioleivag@gma...| Antonio Leiva|2015-02-10 10:42:49|\n",
      "|refs/heads/HEAD|55c65f93887341953...|github.com/dotfen...|[https://github.c...|  false|github.com/antoni...| refs/pull/25/head|   18|55c65f93887341953...|Update README.md|[2bc184e7537c6a0d...|Map(app/src/main/...|            1|antonioleivag@gma...|Antonio Leiva|2015-02-10 10:42:49|antonioleivag@gma...| Antonio Leiva|2015-02-10 10:42:49|\n",
      "|refs/heads/HEAD|55c65f93887341953...|github.com/dotfen...|[https://github.c...|  false|github.com/antoni...|  refs/pull/8/head|    5|55c65f93887341953...|Update README.md|[2bc184e7537c6a0d...|Map(app/src/main/...|            1|antonioleivag@gma...|Antonio Leiva|2015-02-10 10:42:49|antonioleivag@gma...| Antonio Leiva|2015-02-10 10:42:49|\n",
      "|refs/heads/HEAD|55c65f93887341953...|github.com/dotfen...|[https://github.c...|  false|github.com/antoni...|refs/pull/23/merge|   22|55c65f93887341953...|Update README.md|[2bc184e7537c6a0d...|Map(app/src/main/...|            1|antonioleivag@gma...|Antonio Leiva|2015-02-10 10:42:49|antonioleivag@gma...| Antonio Leiva|2015-02-10 10:42:49|\n",
      "|refs/heads/HEAD|55c65f93887341953...|github.com/dotfen...|[https://github.c...|  false|github.com/bluepi...| refs/heads/master|    1|55c65f93887341953...|Update README.md|[2bc184e7537c6a0d...|Map(app/src/main/...|            1|antonioleivag@gma...|Antonio Leiva|2015-02-10 10:42:49|antonioleivag@gma...| Antonio Leiva|2015-02-10 10:42:49|\n",
      "|refs/heads/HEAD|55c65f93887341953...|github.com/dotfen...|[https://github.c...|  false|github.com/antoni...| refs/heads/master|   15|55c65f93887341953...|Update README.md|[2bc184e7537c6a0d...|Map(app/src/main/...|            1|antonioleivag@gma...|Antonio Leiva|2015-02-10 10:42:49|antonioleivag@gma...| Antonio Leiva|2015-02-10 10:42:49|\n",
      "|refs/heads/HEAD|55c65f93887341953...|github.com/dotfen...|[https://github.c...|  false|github.com/antoni...|refs/pull/14/merge|   17|55c65f93887341953...|Update README.md|[2bc184e7537c6a0d...|Map(app/src/main/...|            1|antonioleivag@gma...|Antonio Leiva|2015-02-10 10:42:49|antonioleivag@gma...| Antonio Leiva|2015-02-10 10:42:49|\n",
      "|refs/heads/HEAD|55c65f93887341953...|github.com/dotfen...|[https://github.c...|  false|github.com/bluepi...|   refs/heads/HEAD|    1|55c65f93887341953...|Update README.md|[2bc184e7537c6a0d...|Map(app/src/main/...|            1|antonioleivag@gma...|Antonio Leiva|2015-02-10 10:42:49|antonioleivag@gma...| Antonio Leiva|2015-02-10 10:42:49|\n",
      "|refs/heads/HEAD|55c65f93887341953...|github.com/dotfen...|[https://github.c...|  false|github.com/dotfen...|   refs/heads/HEAD|    0|55c65f93887341953...|Update README.md|[2bc184e7537c6a0d...|Map(app/src/main/...|            1|antonioleivag@gma...|Antonio Leiva|2015-02-10 10:42:49|antonioleivag@gma...| Antonio Leiva|2015-02-10 10:42:49|\n",
      "|refs/heads/HEAD|55c65f93887341953...|github.com/dotfen...|[https://github.c...|  false|github.com/antoni...| refs/pull/8/merge|    6|55c65f93887341953...|Update README.md|[2bc184e7537c6a0d...|Map(app/src/main/...|            1|antonioleivag@gma...|Antonio Leiva|2015-02-10 10:42:49|antonioleivag@gma...| Antonio Leiva|2015-02-10 10:42:49|\n",
      "+---------------+--------------------+--------------------+--------------------+-------+--------------------+------------------+-----+--------------------+----------------+--------------------+--------------------+-------------+--------------------+-------------+-------------------+--------------------+--------------+-------------------+\n",
      "only showing top 20 rows\n",
      "\n"
     ]
    }
   ],
   "source": [
    "head_commits_df.drop(\"blobs\").drop(\"files\").show()"
   ]
  },
  {
   "cell_type": "code",
   "execution_count": 9,
   "metadata": {},
   "outputs": [
    {
     "name": "stdout",
     "output_type": "stream",
     "text": [
      "+--------------------+--------------------+--------------------+---------+--------------------+--------------------+-------------------+-----+--------------------+--------------------+--------------------+-------------+-------------------+-----------+-------------------+-------------------+--------------+-------------------+\n",
      "|           file_hash|             content|         commit_hash|is_binary|                path|       repository_id|     reference_name|index|             message|             parents|               blobs|parents_count|       author_email|author_name|        author_date|    committer_email|committer_name|     committer_date|\n",
      "+--------------------+--------------------+--------------------+---------+--------------------+--------------------+-------------------+-----+--------------------+--------------------+--------------------+-------------+-------------------+-----------+-------------------+-------------------+--------------+-------------------+\n",
      "|c35d5d02dae341e30...|[23 20 41 4C 4C 2...|52fa8ab33c8168f77...|    false|4 Digit Number Co...|github.com/geekco...| refs/pull/233/head|    1|remove unnecessar...|[9674e1dbbda338dd...|[aa3f713cbc4025db...|            1|cuichao@sjtu.edu.cn|    cuichao|2017-09-20 08:39:54|cuichao@sjtu.edu.cn|       cuichao|2017-10-03 07:40:17|\n",
      "|c35d5d02dae341e30...|[23 20 41 4C 4C 2...|52fa8ab33c8168f77...|    false|4 Digit Number Co...|github.com/geekco...|refs/pull/233/merge|    2|remove unnecessar...|[9674e1dbbda338dd...|[aa3f713cbc4025db...|            1|cuichao@sjtu.edu.cn|    cuichao|2017-09-20 08:39:54|cuichao@sjtu.edu.cn|       cuichao|2017-10-03 07:40:17|\n",
      "|844d2c7094e31e391...|[27 27 27 53 69 6...|52fa8ab33c8168f77...|    false|CountMillionChara...|github.com/geekco...| refs/pull/233/head|    1|remove unnecessar...|[9674e1dbbda338dd...|[aa3f713cbc4025db...|            1|cuichao@sjtu.edu.cn|    cuichao|2017-09-20 08:39:54|cuichao@sjtu.edu.cn|       cuichao|2017-10-03 07:40:17|\n",
      "|844d2c7094e31e391...|[27 27 27 53 69 6...|52fa8ab33c8168f77...|    false|CountMillionChara...|github.com/geekco...|refs/pull/233/merge|    2|remove unnecessar...|[9674e1dbbda338dd...|[aa3f713cbc4025db...|            1|cuichao@sjtu.edu.cn|    cuichao|2017-09-20 08:39:54|cuichao@sjtu.edu.cn|       cuichao|2017-10-03 07:40:17|\n",
      "|47482ba6858548302...|[22 22 22 47 65 7...|52fa8ab33c8168f77...|    false|CountMillionChara...|github.com/geekco...| refs/pull/233/head|    1|remove unnecessar...|[9674e1dbbda338dd...|[aa3f713cbc4025db...|            1|cuichao@sjtu.edu.cn|    cuichao|2017-09-20 08:39:54|cuichao@sjtu.edu.cn|       cuichao|2017-10-03 07:40:17|\n",
      "|47482ba6858548302...|[22 22 22 47 65 7...|52fa8ab33c8168f77...|    false|CountMillionChara...|github.com/geekco...|refs/pull/233/merge|    2|remove unnecessar...|[9674e1dbbda338dd...|[aa3f713cbc4025db...|            1|cuichao@sjtu.edu.cn|    cuichao|2017-09-20 08:39:54|cuichao@sjtu.edu.cn|       cuichao|2017-10-03 07:40:17|\n",
      "|31dfe22fbcd7550ad...|[69 6D 70 6F 72 7...|52fa8ab33c8168f77...|    false|CountMillionChara...|github.com/geekco...| refs/pull/233/head|    1|remove unnecessar...|[9674e1dbbda338dd...|[aa3f713cbc4025db...|            1|cuichao@sjtu.edu.cn|    cuichao|2017-09-20 08:39:54|cuichao@sjtu.edu.cn|       cuichao|2017-10-03 07:40:17|\n",
      "|31dfe22fbcd7550ad...|[69 6D 70 6F 72 7...|52fa8ab33c8168f77...|    false|CountMillionChara...|github.com/geekco...|refs/pull/233/merge|    2|remove unnecessar...|[9674e1dbbda338dd...|[aa3f713cbc4025db...|            1|cuichao@sjtu.edu.cn|    cuichao|2017-09-20 08:39:54|cuichao@sjtu.edu.cn|       cuichao|2017-10-03 07:40:17|\n",
      "|4c90f9590819b761e...|                  []|52fa8ab33c8168f77...|     true|Google Image Down...|github.com/geekco...| refs/pull/233/head|    1|remove unnecessar...|[9674e1dbbda338dd...|[aa3f713cbc4025db...|            1|cuichao@sjtu.edu.cn|    cuichao|2017-09-20 08:39:54|cuichao@sjtu.edu.cn|       cuichao|2017-10-03 07:40:17|\n",
      "|4c90f9590819b761e...|                  []|52fa8ab33c8168f77...|     true|Google Image Down...|github.com/geekco...|refs/pull/233/merge|    2|remove unnecessar...|[9674e1dbbda338dd...|[aa3f713cbc4025db...|            1|cuichao@sjtu.edu.cn|    cuichao|2017-09-20 08:39:54|cuichao@sjtu.edu.cn|       cuichao|2017-10-03 07:40:17|\n",
      "|9fbd06c33a40ab861...|[23 21 2F 75 73 7...|52fa8ab33c8168f77...|    false|Google Image Down...|github.com/geekco...| refs/pull/233/head|    1|remove unnecessar...|[9674e1dbbda338dd...|[aa3f713cbc4025db...|            1|cuichao@sjtu.edu.cn|    cuichao|2017-09-20 08:39:54|cuichao@sjtu.edu.cn|       cuichao|2017-10-03 07:40:17|\n",
      "|9fbd06c33a40ab861...|[23 21 2F 75 73 7...|52fa8ab33c8168f77...|    false|Google Image Down...|github.com/geekco...|refs/pull/233/merge|    2|remove unnecessar...|[9674e1dbbda338dd...|[aa3f713cbc4025db...|            1|cuichao@sjtu.edu.cn|    cuichao|2017-09-20 08:39:54|cuichao@sjtu.edu.cn|       cuichao|2017-10-03 07:40:17|\n",
      "|f8c804182785ceec9...|[22 22 22 0A 43 6...|52fa8ab33c8168f77...|    false|Google Image Down...|github.com/geekco...| refs/pull/233/head|    1|remove unnecessar...|[9674e1dbbda338dd...|[aa3f713cbc4025db...|            1|cuichao@sjtu.edu.cn|    cuichao|2017-09-20 08:39:54|cuichao@sjtu.edu.cn|       cuichao|2017-10-03 07:40:17|\n",
      "|f8c804182785ceec9...|[22 22 22 0A 43 6...|52fa8ab33c8168f77...|    false|Google Image Down...|github.com/geekco...|refs/pull/233/merge|    2|remove unnecessar...|[9674e1dbbda338dd...|[aa3f713cbc4025db...|            1|cuichao@sjtu.edu.cn|    cuichao|2017-09-20 08:39:54|cuichao@sjtu.edu.cn|       cuichao|2017-10-03 07:40:17|\n",
      "|f965a5e635634365b...|[23 21 2F 75 73 7...|52fa8ab33c8168f77...|    false|Google Image Down...|github.com/geekco...| refs/pull/233/head|    1|remove unnecessar...|[9674e1dbbda338dd...|[aa3f713cbc4025db...|            1|cuichao@sjtu.edu.cn|    cuichao|2017-09-20 08:39:54|cuichao@sjtu.edu.cn|       cuichao|2017-10-03 07:40:17|\n",
      "|f965a5e635634365b...|[23 21 2F 75 73 7...|52fa8ab33c8168f77...|    false|Google Image Down...|github.com/geekco...|refs/pull/233/merge|    2|remove unnecessar...|[9674e1dbbda338dd...|[aa3f713cbc4025db...|            1|cuichao@sjtu.edu.cn|    cuichao|2017-09-20 08:39:54|cuichao@sjtu.edu.cn|       cuichao|2017-10-03 07:40:17|\n",
      "|f965a5e635634365b...|[23 21 2F 75 73 7...|52fa8ab33c8168f77...|    false|Google Image Down...|github.com/geekco...| refs/pull/233/head|    1|remove unnecessar...|[9674e1dbbda338dd...|[aa3f713cbc4025db...|            1|cuichao@sjtu.edu.cn|    cuichao|2017-09-20 08:39:54|cuichao@sjtu.edu.cn|       cuichao|2017-10-03 07:40:17|\n",
      "|f965a5e635634365b...|[23 21 2F 75 73 7...|52fa8ab33c8168f77...|    false|Google Image Down...|github.com/geekco...|refs/pull/233/merge|    2|remove unnecessar...|[9674e1dbbda338dd...|[aa3f713cbc4025db...|            1|cuichao@sjtu.edu.cn|    cuichao|2017-09-20 08:39:54|cuichao@sjtu.edu.cn|       cuichao|2017-10-03 07:40:17|\n",
      "|e951ce9a0e4ee217f...|[69 6D 70 6F 72 7...|52fa8ab33c8168f77...|    false|      Google_News.py|github.com/geekco...| refs/pull/233/head|    1|remove unnecessar...|[9674e1dbbda338dd...|[aa3f713cbc4025db...|            1|cuichao@sjtu.edu.cn|    cuichao|2017-09-20 08:39:54|cuichao@sjtu.edu.cn|       cuichao|2017-10-03 07:40:17|\n",
      "|e951ce9a0e4ee217f...|[69 6D 70 6F 72 7...|52fa8ab33c8168f77...|    false|      Google_News.py|github.com/geekco...|refs/pull/233/merge|    2|remove unnecessar...|[9674e1dbbda338dd...|[aa3f713cbc4025db...|            1|cuichao@sjtu.edu.cn|    cuichao|2017-09-20 08:39:54|cuichao@sjtu.edu.cn|       cuichao|2017-10-03 07:40:17|\n",
      "+--------------------+--------------------+--------------------+---------+--------------------+--------------------+-------------------+-----+--------------------+--------------------+--------------------+-------------+-------------------+-----------+-------------------+-------------------+--------------+-------------------+\n",
      "\n"
     ]
    }
   ],
   "source": [
    "files_df.limit(20).show()"
   ]
  },
  {
   "cell_type": "code",
   "execution_count": 10,
   "metadata": {},
   "outputs": [
    {
     "name": "stdout",
     "output_type": "stream",
     "text": [
      "+--------------------+---------------+--------------------+------+--------------------+\n",
      "|       repository_id| reference_name|                path|  lang|                uast|\n",
      "+--------------------+---------------+--------------------+------+--------------------+\n",
      "|github.com/mingra...|refs/heads/HEAD|fibonacci/fibonac...|Python|[0A 06 4D 6F 64 7...|\n",
      "|github.com/mingra...|refs/heads/HEAD|lcm/lcm_optimal_e...|Python|[0A 06 4D 6F 64 7...|\n",
      "|github.com/mingra...|refs/heads/HEAD|prime/sieve_of_er...|Python|[0A 06 4D 6F 64 7...|\n",
      "|github.com/mingra...|refs/heads/HEAD|prime/is_prime_im...|Python|[0A 06 4D 6F 64 7...|\n",
      "|github.com/mingra...|refs/heads/HEAD|fibonacci/fibonac...|Python|[0A 06 4D 6F 64 7...|\n",
      "|github.com/mingra...|refs/heads/HEAD|factorial/factori...|Python|[0A 06 4D 6F 64 7...|\n",
      "|github.com/mingra...|refs/heads/HEAD|euclidean/distanc...|Python|[0A 06 4D 6F 64 7...|\n",
      "|github.com/mingra...|refs/heads/HEAD|          gcd/gcd.py|Python|[0A 06 4D 6F 64 7...|\n",
      "|github.com/mingra...|refs/heads/HEAD|factorial/factori...|Python|[0A 06 4D 6F 64 7...|\n",
      "|github.com/mingra...|refs/heads/HEAD|pythagorean_tripl...|Python|[0A 06 4D 6F 64 7...|\n",
      "|github.com/mingra...|refs/heads/HEAD|fibonacci/fibonac...|Python|[0A 06 4D 6F 64 7...|\n",
      "|github.com/mingra...|refs/heads/HEAD|          lcm/lcm.py|Python|[0A 06 4D 6F 64 7...|\n",
      "|github.com/mingra...|refs/heads/HEAD|prime/is_prime_op...|Python|[0A 06 4D 6F 64 7...|\n",
      "|github.com/mingra...|refs/heads/HEAD|differentiation/s...|Python|[0A 06 4D 6F 64 7...|\n",
      "|github.com/mingra...|refs/heads/HEAD|gcd/gcd_optimal_e...|Python|[0A 06 4D 6F 64 7...|\n",
      "|github.com/mingra...|refs/heads/HEAD| prime/next_prime.py|Python|[0A 06 4D 6F 64 7...|\n",
      "|github.com/mingra...|refs/heads/HEAD|   prime/is_prime.py|Python|[0A 06 4D 6F 64 7...|\n",
      "|github.com/mingra...|refs/heads/HEAD|trigonometric_fun...|Python|[0A 06 4D 6F 64 7...|\n",
      "|github.com/mingra...|refs/heads/HEAD|          abs/abs.py|Python|[0A 06 4D 6F 64 7...|\n",
      "+--------------------+---------------+--------------------+------+--------------------+\n",
      "\n"
     ]
    }
   ],
   "source": [
    "api.files(repository_ids=[\"github.com/mingrammer/funmath.git\"], reference_names=[\"refs/heads/HEAD\"]).classify_languages().where('lang = \"Python\"').extract_uasts().select('repository_id', 'reference_name', 'path', 'lang', 'uast').show()"
   ]
  },
  {
   "cell_type": "code",
   "execution_count": 11,
   "metadata": {},
   "outputs": [
    {
     "name": "stdout",
     "output_type": "stream",
     "text": [
      "+--------------------+---------------+--------------------+----+--------------------+\n",
      "|       repository_id| reference_name|                path|lang|                uast|\n",
      "+--------------------+---------------+--------------------+----+--------------------+\n",
      "|github.com/antoni...|refs/heads/HEAD|app/src/main/java...|Java|[0A 0F 43 6F 6D 7...|\n",
      "|github.com/antoni...|refs/heads/HEAD|app/src/main/java...|Java|[0A 0F 43 6F 6D 7...|\n",
      "|github.com/antoni...|refs/heads/HEAD|app/src/main/java...|Java|[0A 0F 43 6F 6D 7...|\n",
      "|github.com/antoni...|refs/heads/HEAD|app/src/main/java...|Java|[0A 0F 43 6F 6D 7...|\n",
      "|github.com/antoni...|refs/heads/HEAD|app/src/main/java...|Java|[0A 0F 43 6F 6D 7...|\n",
      "|github.com/antoni...|refs/heads/HEAD|app/src/main/java...|Java|[0A 0F 43 6F 6D 7...|\n",
      "|github.com/antoni...|refs/heads/HEAD|app/src/main/java...|Java|[0A 0F 43 6F 6D 7...|\n",
      "|github.com/antoni...|refs/heads/HEAD|app/src/main/java...|Java|[0A 0F 43 6F 6D 7...|\n",
      "|github.com/antoni...|refs/heads/HEAD|app/src/main/java...|Java|[0A 0F 43 6F 6D 7...|\n",
      "|github.com/antoni...|refs/heads/HEAD|app/src/main/java...|Java|[0A 0F 43 6F 6D 7...|\n",
      "|github.com/antoni...|refs/heads/HEAD|app/src/main/java...|Java|[0A 0F 43 6F 6D 7...|\n",
      "|github.com/antoni...|refs/heads/HEAD|app/src/main/java...|Java|[0A 0F 43 6F 6D 7...|\n",
      "|github.com/antoni...|refs/heads/HEAD|app/src/test/java...|Java|[0A 0F 43 6F 6D 7...|\n",
      "+--------------------+---------------+--------------------+----+--------------------+\n",
      "\n"
     ]
    }
   ],
   "source": [
    "api.files(repository_ids=[\"github.com/antoniolg/androidmvp.git\"], reference_names=[\"refs/heads/HEAD\"]).classify_languages().where('lang = \"Java\"').extract_uasts().select('repository_id', 'reference_name', 'path', 'lang', 'uast').show()"
   ]
  },
  {
   "cell_type": "code",
   "execution_count": null,
   "metadata": {},
   "outputs": [],
   "source": []
  }
 ],
 "metadata": {
  "kernelspec": {
   "display_name": "Python 3",
   "language": "python",
   "name": "python3"
  },
  "language_info": {
   "codemirror_mode": {
    "name": "ipython",
    "version": 3
   },
   "file_extension": ".py",
   "mimetype": "text/x-python",
   "name": "python",
   "nbconvert_exporter": "python",
   "pygments_lexer": "ipython3",
   "version": "3.6.2"
  }
 },
 "nbformat": 4,
 "nbformat_minor": 2
}
